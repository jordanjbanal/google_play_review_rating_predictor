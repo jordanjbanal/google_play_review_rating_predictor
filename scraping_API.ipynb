{
    "cells": [
        {
            "cell_type": "markdown",
            "source": [
                "# Mobile App Review Rating Predictor\r\n",
                "## Scraping 140,000+ app reviews from the Google Play Store from 10 different categories"
            ],
            "metadata": {}
        },
        {
            "cell_type": "markdown",
            "source": [
                "#### Required Imports"
            ],
            "metadata": {}
        },
        {
            "cell_type": "code",
            "execution_count": 28,
            "source": [
                "import pandas as pd\r\n",
                "import seaborn as sns\r\n",
                "from tqdm import tqdm\r\n",
                "from google_play_scraper import Sort, reviews"
            ],
            "outputs": [],
            "metadata": {}
        },
        {
            "cell_type": "markdown",
            "source": [
                "### To have the model see various types of reviews, I take several apps from different categories\r\n",
                "#### Mobile Application IDs from the Google Play Store"
            ],
            "metadata": {}
        },
        {
            "cell_type": "code",
            "execution_count": 29,
            "source": [
                "app_packages = [\r\n",
                "  # Graphics & Design\r\n",
                "  'com.canva.editor', #Canva\r\n",
                "  'com.delgeo.desygner', #Desygner\r\n",
                "  'com.brakefield.idfree', #Inifite Design\r\n",
                "  'com.design.studio', #Design Studio\r\n",
                "  'com.dephotos.crello', #Crello'\r\n",
                "  'com.houzz.app', #Houzz\r\n",
                "  'com.adobe.spark.post', #Adobe Spark Post\r\n",
                "  'com.logopit.logoplus', #Logo Maker Plus\r\n",
                "\r\n",
                "  # Entertainment\r\n",
                "  'com.amazon.avod.thirdpartyclient', #Amazon Prime Video - Entertainment\r\n",
                "  'com.netflix.mediaclient', #Netflix\r\n",
                "  'com.disney.datg.videoplatforms.android.watchdc', #Disney\r\n",
                "  'com.hbo.hbonow', #HBO Max\r\n",
                "  'com.mtvn.mtvPrimeAndroid', #MTV\r\n",
                "  'com.hulu.plus', #HULU\r\n",
                "  'com.cbs.app', #Paramount\r\n",
                "  'com.nick.android.nickjr', #Nick. Jr.\r\n",
                "  'com.cw.fullepisodes.android', #The CW\r\n",
                "  'com.rhythmnewmedia.tmz', #TMZ\r\n",
                "  'com.kiloo.subwaysurf', #Subway Surfers\r\n",
                "\r\n",
                "  #Photo & Videos\r\n",
                "  'com.adobe.psmobile', #Adobe Photoshop\r\n",
                "  'com.niksoftware.snapseed', #Snapseed\r\n",
                "  'com.adobe.lrmobile', #Adobe Lightroom\r\n",
                "  'photo.editor.photoeditor.photoeditorpro', #Photo Editor Pro\r\n",
                "  'com.picsart.studio', #Picsart\r\n",
                "  'vsin.t16_funny_photo', #Photo Lab Picture Editor\r\n",
                "  'photo.editor.photoeditor.filtersforpictures', #Photo Editor\r\n",
                "\r\n",
                "  #Travel\r\n",
                "  'com.tripadvisor.tripadvisor', #Tripadvisor\r\n",
                "  'com.expedia.bookings', #Expedia\r\n",
                "  'com.booking', #Booking\r\n",
                "  'ctrip.english', #Trip.com\r\n",
                "  'com.trivago', #Trivago\r\n",
                "  'com.kayak.android', #Kayak\r\n",
                "  'com.airbnb.android', #Airbnb\r\n",
                "  'com.couchsurfing.mobile.android', #Couchsurfing\r\n",
                "\r\n",
                "  #Finance\r\n",
                "  'com.yahoo.mobile.client.android.finance', #Yahoo Finance - Finance\r\n",
                "  'com.bloomberg.android.plus', #Bloomberg\r\n",
                "  'com.fusionmedia.investing', #Investing.com\r\n",
                "  'com.mint', #Mint\r\n",
                "  'com.bookmark.money', #Money Lover\r\n",
                "  'com.microsoft.amp.apps.bingfinance', #MSN Money\r\n",
                "\r\n",
                "  #Health & Fitness\r\n",
                "  'com.huawei.health', #Huawei Health\r\n",
                "  'com.sec.android.app.shealth', #Samsung Health\r\n",
                "  'com.google.android.apps.fitness', #Google Fit\r\n",
                "  'com.fitbit.FitbitMobile', #Fitbit\r\n",
                "  'com.myfitnesspal.android', #Calorie Counter\r\n",
                "  'homeworkout.homeworkouts.noequipment', #Home Workout\r\n",
                "\r\n",
                "  #Music\r\n",
                "  'com.google.android.apps.youtube.music', #Youtube Music\r\n",
                "  'com.spotify.music', #Spotify\r\n",
                "  'com.apple.android.music', #Apple Music\r\n",
                "  'com.soundcloud.android', #SoundCloud\r\n",
                "  'com.amazon.mp3', #Amazon Music\r\n",
                "  'com.musixmatch.android.lyrify', #Musixmatch\r\n",
                "  'deezer.android.app', #Deezer\r\n",
                "  'com.shazam.android', #Shazam\r\n",
                "\r\n",
                "  #Productivity\r\n",
                "  'cc.forestapp', #Forest\r\n",
                "  'com.ticktick.task', #TickTick\r\n",
                "  'com.monday.monday', #Monday\r\n",
                "  'co.thefabulous.app', #Fabulous\r\n",
                "  'com.superelement.pomodoro', #Focus To-Do\r\n",
                "  'com.microsoft.todos', #Microsoft To Do\r\n",
                "  'com.todoist', #Todoist\r\n",
                "  'com.google.android.calendar', #Google Calendar\r\n",
                "  'com.sillens.shapeupclub', #Lifesum - Lifestyle \r\n",
                "\r\n",
                "  #Social Networking\r\n",
                "  'com.twitter.android', #Twitter\r\n",
                "  'com.snapchat.android', #Snapchat\r\n",
                "  'com.instagram.android', #Instagram\r\n",
                "\r\n",
                "  #Unclassified\r\n",
                "  'com.nianticlabs.pokemongo', #Pokemon Go - Games\r\n",
                "  'com.nordvpn.android', #NordVPN - Utilities\r\n",
                "  'org.khanacademy.android', #Khan Academy - Education\r\n",
                "  'com.google.android.apps.magazines', #Google News - News\r\n",
                "  'com.handmark.sportcaster', #CBS Sport - Sport\r\n",
                "  'com.accuweather.android', #Accuweather - Weather\r\n",
                "  'com.lydia' #Lydia Wire Transfers - Banking\r\n",
                "]"
            ],
            "outputs": [],
            "metadata": {}
        },
        {
            "cell_type": "markdown",
            "source": [
                "#### Loop retrieving reviews from Google Play mobile app previously picked"
            ],
            "metadata": {}
        },
        {
            "cell_type": "code",
            "execution_count": 15,
            "source": [
                "app_reviews = []\r\n",
                "for ap in tqdm(app_packages):\r\n",
                "  for score in [1,2,3,4,5]:\r\n",
                "    for sort_order in [Sort.MOST_RELEVANT, Sort.NEWEST]:\r\n",
                "      rvs, _ = reviews(\r\n",
                "        ap,\r\n",
                "        lang='en',\r\n",
                "        country='us',\r\n",
                "        sort=sort_order,\r\n",
                "        count= 200,\r\n",
                "        filter_score_with=score\r\n",
                "      )\r\n",
                "      for r in rvs:\r\n",
                "        r['sortOrder'] = 'most_relevant' if sort_order == Sort.MOST_RELEVANT else 'newest'\r\n",
                "        r['appId'] = ap\r\n",
                "      app_reviews.extend(rvs)"
            ],
            "outputs": [
                {
                    "output_type": "stream",
                    "name": "stderr",
                    "text": [
                        "100%|██████████| 73/73 [11:55<00:00,  9.81s/it]\n"
                    ]
                }
            ],
            "metadata": {}
        },
        {
            "cell_type": "markdown",
            "source": [
                "#### There are exactly 141462 reviews scraped from the Google Play Store"
            ],
            "metadata": {}
        },
        {
            "cell_type": "code",
            "execution_count": 22,
            "source": [
                "len(app_reviews)"
            ],
            "outputs": [
                {
                    "output_type": "execute_result",
                    "data": {
                        "text/plain": [
                            "141462"
                        ]
                    },
                    "metadata": {},
                    "execution_count": 22
                }
            ],
            "metadata": {}
        },
        {
            "cell_type": "markdown",
            "source": [
                "#### Distribution of reviews according to their score is approximately equal"
            ],
            "metadata": {}
        },
        {
            "cell_type": "code",
            "execution_count": 25,
            "source": [
                "import seaborn as sns\r\n",
                "sns.countplot(app_reviews_df.score)"
            ],
            "outputs": [
                {
                    "output_type": "stream",
                    "name": "stderr",
                    "text": [
                        "C:\\Users\\user\\AppData\\Local\\Programs\\Python\\Python39\\lib\\site-packages\\seaborn\\_decorators.py:36: FutureWarning: Pass the following variable as a keyword arg: x. From version 0.12, the only valid positional argument will be `data`, and passing other arguments without an explicit keyword will result in an error or misinterpretation.\n",
                        "  warnings.warn(\n"
                    ]
                },
                {
                    "output_type": "execute_result",
                    "data": {
                        "text/plain": [
                            "<AxesSubplot:xlabel='score', ylabel='count'>"
                        ]
                    },
                    "metadata": {},
                    "execution_count": 25
                },
                {
                    "output_type": "display_data",
                    "data": {
                        "text/plain": [
                            "<Figure size 432x288 with 1 Axes>"
                        ],
                        "image/png": "[encoded data removed]"
                    },
                    "metadata": {
                        "image/png": {
                            "width": 413,
                            "height": 272
                        }
                    }
                }
            ],
            "metadata": {}
        },
        {
            "cell_type": "markdown",
            "source": [
                "#### Converting to DataFrame and exporting it"
            ],
            "metadata": {}
        },
        {
            "cell_type": "code",
            "execution_count": 23,
            "source": [
                "app_reviews_df = pd.DataFrame(app_reviews)"
            ],
            "outputs": [],
            "metadata": {}
        },
        {
            "cell_type": "code",
            "execution_count": 27,
            "source": [
                "app_reviews_df.to_csv('reviews.csv')"
            ],
            "outputs": [],
            "metadata": {}
        },
        {
            "cell_type": "markdown",
            "source": [
                "#### Next Step: Making a predictive model with CountVectorizer and Naive Bayes Technique (model.py)"
            ],
            "metadata": {}
        }
    ],
    "metadata": {
        "orig_nbformat": 4,
        "language_info": {
            "name": "python",
            "version": "3.9.6",
            "mimetype": "text/x-python",
            "codemirror_mode": {
                "name": "ipython",
                "version": 3
            },
            "pygments_lexer": "ipython3",
            "nbconvert_exporter": "python",
            "file_extension": ".py"
        },
        "kernelspec": {
            "name": "python3",
            "display_name": "Python 3.9.6 64-bit"
        },
        "interpreter": {
            "hash": "247ab06e135bb35fa78c5eff31b2a9a0050dcb5fb773c2631d2a29ac689eeccb"
        }
    },
    "nbformat": 4,
    "nbformat_minor": 2
}